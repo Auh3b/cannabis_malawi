{
 "cells": [
  {
   "cell_type": "markdown",
   "id": "6eca7c8e",
   "metadata": {},
   "source": [
    "# CANNABUS IN MALAWI - A CURIOUS CASE\n",
    "\n",
    "This research seeks to answer the following question:\n",
    "\n",
    "1. Why is that **Cannabus** (hemp/chamba) has been getting much attention these days?\n",
    "2. How many cases have been reported in 2022 thus far?\n",
    "3. The location of origin?\n",
    "4. Destination of smuggled cannibas?\n",
    "5. Transport means?"
   ]
  },
  {
   "cell_type": "markdown",
   "id": "b88e2ec2",
   "metadata": {},
   "source": [
    "## 1. Get Data\n",
    "We will use custom google search to make a collection of articles about reported cases of illegal posession of cannabus with intention to distribute"
   ]
  },
  {
   "cell_type": "code",
   "execution_count": 1,
   "id": "eae8cd70",
   "metadata": {},
   "outputs": [],
   "source": [
    "import pandas as pd\n",
    "from selenium import webdriver\n",
    "from webdriver_manager.chrome import ChromeDriverManager\n",
    "import time\n",
    "from bs4 import BeautifulSoup\n",
    "import re"
   ]
  },
  {
   "cell_type": "code",
   "execution_count": 26,
   "id": "f9206420",
   "metadata": {},
   "outputs": [],
   "source": [
    "article_links = pd.read_csv(\"cannibus_malawi_article_links.csv\",usecols=[\"link\",\"site\",\"category\"]).to_dict(orient=\"records\")"
   ]
  },
  {
   "cell_type": "code",
   "execution_count": 35,
   "id": "391d139a",
   "metadata": {},
   "outputs": [
    {
     "name": "stdout",
     "output_type": "stream",
     "text": [
      "251\n",
      "235\n"
     ]
    }
   ],
   "source": [
    "print(len(article_links))\n",
    "dropList = []\n",
    "for index, article in enumerate(article_links):\n",
    "    link = article[\"link\"]\n",
    "    try:\n",
    "        match = re.search(\".?/tag/.?\", link)\n",
    "        if match:\n",
    "            dropList.append(index)\n",
    "            article_links.pop(index)\n",
    "    except:\n",
    "        pass\n",
    "    \n",
    "print(len(article_links))"
   ]
  },
  {
   "cell_type": "code",
   "execution_count": 10,
   "id": "b9f92317",
   "metadata": {},
   "outputs": [],
   "source": [
    "html_tags = {\n",
    "    \"times.mw\": [\"entry-header\", \"entry-content\"],\n",
    "    \"www.times.mw\": [\"entry-header\", \"entry-content\"],\n",
    "    \"mwnation.com\": [\"post_title\", \"meta_container\", \"entry-content\"],\n",
    "    \"www.mwnation.com\": [\"post_title\", \"meta_container\", \"entry-content\"],\n",
    "    \"nyasatimes.com\":[\"nyasa-title\", \"entry-meta\", \"nyasa-content\"],\n",
    "    \"www.nyasatimes.com\":[\"nyasa-title\", \"entry-meta\", \"nyasa-content\"],\n",
    "    \"zodiakmalawi.com\":[\"itemHeader\",\"itemBody\"],\n",
    "    \"www.zodiakmalawi.com\":[\"itemHeader\",\"itemBody\"]\n",
    "}"
   ]
  },
  {
   "cell_type": "code",
   "execution_count": 2,
   "id": "f8d2b9a5",
   "metadata": {},
   "outputs": [
    {
     "name": "stderr",
     "output_type": "stream",
     "text": [
      "[WDM] - Downloading: 100%|█████████████████████████████████████████████████████████| 6.68M/6.68M [00:30<00:00, 228kB/s]\n"
     ]
    }
   ],
   "source": [
    "driver  = webdriver.Chrome(ChromeDriverManager().install())"
   ]
  },
  {
   "cell_type": "code",
   "execution_count": 3,
   "id": "5a6d2d09",
   "metadata": {},
   "outputs": [],
   "source": [
    "by = webdriver.common.by.By"
   ]
  },
  {
   "cell_type": "code",
   "execution_count": null,
   "id": "ed79eaa9",
   "metadata": {},
   "outputs": [],
   "source": []
  },
  {
   "cell_type": "code",
   "execution_count": 8,
   "id": "4fb05b90",
   "metadata": {},
   "outputs": [],
   "source": [
    "def getSite(linkDict, classDict):\n",
    "    link = linkDict[\"link\"]\n",
    "    site = linkDict[\"site\"]\n",
    "    classList = classDict[site]\n",
    "    driver.get(link)\n",
    "    time.sleep(20)\n",
    "    text = \"\"\n",
    "    \n",
    "    for classTag in classList:\n",
    "        text += driver.find_element(by.CSS_SELECTOR, f\"[class*={classTag}]\").text\n",
    "        \n",
    "    linkDict[\"article\"] = text"
   ]
  },
  {
   "cell_type": "code",
   "execution_count": 40,
   "id": "58aaa750",
   "metadata": {
    "collapsed": true
   },
   "outputs": [
    {
     "name": "stdout",
     "output_type": "stream",
     "text": [
      "Message: no such element: Unable to locate element: {\"method\":\"css selector\",\"selector\":\"[class*=entry-header]\"}\n",
      "  (Session info: chrome=105.0.5195.52)\n",
      "\n",
      "Message: no such element: Unable to locate element: {\"method\":\"css selector\",\"selector\":\"[class*=entry-header]\"}\n",
      "  (Session info: chrome=105.0.5195.52)\n",
      "\n",
      "Message: no such element: Unable to locate element: {\"method\":\"css selector\",\"selector\":\"[class*=post_title]\"}\n",
      "  (Session info: chrome=105.0.5195.52)\n",
      "\n",
      "Message: no such element: Unable to locate element: {\"method\":\"css selector\",\"selector\":\"[class*=entry-content]\"}\n",
      "  (Session info: chrome=105.0.5195.52)\n",
      "\n",
      "Message: timeout: Timed out receiving message from renderer: 10.883\n",
      "  (Session info: chrome=105.0.5195.52)\n",
      "\n",
      "Message: timeout: Timed out receiving message from renderer: 33.670\n",
      "  (Session info: chrome=105.0.5195.52)\n",
      "\n",
      "Message: timeout: Timed out receiving message from renderer: 230.750\n",
      "  (Session info: chrome=105.0.5195.52)\n",
      "\n",
      "Message: no such element: Unable to locate element: {\"method\":\"css selector\",\"selector\":\"[class*=post_title]\"}\n",
      "  (Session info: chrome=105.0.5195.52)\n",
      "\n",
      "Message: no such element: Unable to locate element: {\"method\":\"css selector\",\"selector\":\"[class*=post_title]\"}\n",
      "  (Session info: chrome=105.0.5195.52)\n",
      "\n",
      "Message: unknown error: net::ERR_CONNECTION_TIMED_OUT\n",
      "  (Session info: chrome=105.0.5195.52)\n",
      "\n",
      "Message: no such element: Unable to locate element: {\"method\":\"css selector\",\"selector\":\"[class*=post_title]\"}\n",
      "  (Session info: chrome=105.0.5195.52)\n",
      "\n",
      "Message: timeout: Timed out receiving message from renderer: -312.368\n",
      "  (Session info: chrome=105.0.5195.52)\n",
      "\n",
      "Message: no such element: Unable to locate element: {\"method\":\"css selector\",\"selector\":\"[class*=entry-content]\"}\n",
      "  (Session info: chrome=105.0.5195.52)\n",
      "\n",
      "Message: no such element: Unable to locate element: {\"method\":\"css selector\",\"selector\":\"[class*=entry-header]\"}\n",
      "  (Session info: chrome=105.0.5195.52)\n",
      "\n"
     ]
    }
   ],
   "source": [
    "for article in article_links:\n",
    "    try:\n",
    "        getSite(article, html_tags)\n",
    "    except Exception as e:\n",
    "        print(e)"
   ]
  },
  {
   "cell_type": "code",
   "execution_count": 45,
   "id": "c9a0c338",
   "metadata": {},
   "outputs": [],
   "source": [
    "df = pd.DataFrame(article_links)"
   ]
  },
  {
   "cell_type": "code",
   "execution_count": null,
   "id": "6fe63551",
   "metadata": {},
   "outputs": [],
   "source": []
  },
  {
   "cell_type": "code",
   "execution_count": 50,
   "id": "8c62610c",
   "metadata": {},
   "outputs": [],
   "source": [
    "df.to_csv(\"cannibus_malawi_with_article.csv\")"
   ]
  },
  {
   "cell_type": "code",
   "execution_count": 4,
   "id": "385edd9a",
   "metadata": {},
   "outputs": [],
   "source": [
    "df = pd.read_csv(\"cannibus_malawi_with_article.csv\")"
   ]
  },
  {
   "cell_type": "code",
   "execution_count": 5,
   "id": "0e4bd48b",
   "metadata": {},
   "outputs": [],
   "source": [
    "has_articles = df[df[\"article\"].notna()]\n",
    "without_articles = df[df[\"article\"].isna()]"
   ]
  },
  {
   "cell_type": "code",
   "execution_count": 6,
   "id": "c88391ee",
   "metadata": {},
   "outputs": [],
   "source": [
    "redo_links = without_articles.to_dict(orient=\"records\")"
   ]
  },
  {
   "cell_type": "code",
   "execution_count": 11,
   "id": "0b6f86a3",
   "metadata": {
    "collapsed": true
   },
   "outputs": [
    {
     "name": "stdout",
     "output_type": "stream",
     "text": [
      "Message: no such element: Unable to locate element: {\"method\":\"css selector\",\"selector\":\"[class*=entry-header]\"}\n",
      "  (Session info: chrome=105.0.5195.102)\n",
      "\n",
      "Message: no such element: Unable to locate element: {\"method\":\"css selector\",\"selector\":\"[class*=entry-header]\"}\n",
      "  (Session info: chrome=105.0.5195.102)\n",
      "\n",
      "Message: no such element: Unable to locate element: {\"method\":\"css selector\",\"selector\":\"[class*=entry-content]\"}\n",
      "  (Session info: chrome=105.0.5195.102)\n",
      "\n",
      "Message: no such element: Unable to locate element: {\"method\":\"css selector\",\"selector\":\"[class*=entry-content]\"}\n",
      "  (Session info: chrome=105.0.5195.102)\n",
      "\n",
      "Message: no such element: Unable to locate element: {\"method\":\"css selector\",\"selector\":\"[class*=entry-header]\"}\n",
      "  (Session info: chrome=105.0.5195.102)\n",
      "\n"
     ]
    }
   ],
   "source": [
    "for article in redo_links:\n",
    "    try:\n",
    "        getSite(article, html_tags)\n",
    "    except Exception as e:\n",
    "        print(e)"
   ]
  },
  {
   "cell_type": "code",
   "execution_count": 13,
   "id": "664881d4",
   "metadata": {},
   "outputs": [],
   "source": [
    "articles_relinked = pd.DataFrame(redo_links)"
   ]
  },
  {
   "cell_type": "code",
   "execution_count": 14,
   "id": "3318220d",
   "metadata": {},
   "outputs": [],
   "source": [
    "articles_relinked = articles_relinked[articles_relinked[\"article\"].notna()]"
   ]
  },
  {
   "cell_type": "code",
   "execution_count": 15,
   "id": "1eb49fc5",
   "metadata": {
    "collapsed": true
   },
   "outputs": [
    {
     "data": {
      "text/html": [
       "<div>\n",
       "<style scoped>\n",
       "    .dataframe tbody tr th:only-of-type {\n",
       "        vertical-align: middle;\n",
       "    }\n",
       "\n",
       "    .dataframe tbody tr th {\n",
       "        vertical-align: top;\n",
       "    }\n",
       "\n",
       "    .dataframe thead th {\n",
       "        text-align: right;\n",
       "    }\n",
       "</style>\n",
       "<table border=\"1\" class=\"dataframe\">\n",
       "  <thead>\n",
       "    <tr style=\"text-align: right;\">\n",
       "      <th></th>\n",
       "      <th>Unnamed: 0</th>\n",
       "      <th>link</th>\n",
       "      <th>site</th>\n",
       "      <th>category</th>\n",
       "      <th>article</th>\n",
       "    </tr>\n",
       "  </thead>\n",
       "  <tbody>\n",
       "    <tr>\n",
       "      <th>2</th>\n",
       "      <td>43</td>\n",
       "      <td>https://www.mwnation.com/house-allows-industri...</td>\n",
       "      <td>www.mwnation.com</td>\n",
       "      <td>Cannabis</td>\n",
       "      <td>House allows industrial hemp bill draftingby E...</td>\n",
       "    </tr>\n",
       "    <tr>\n",
       "      <th>4</th>\n",
       "      <td>78</td>\n",
       "      <td>https://mwnation.com/malawi-could-lose-k75bn-i...</td>\n",
       "      <td>mwnation.com</td>\n",
       "      <td>Cannabis</td>\n",
       "      <td>Malawi could lose K75bn industrial hemp revenu...</td>\n",
       "    </tr>\n",
       "    <tr>\n",
       "      <th>5</th>\n",
       "      <td>83</td>\n",
       "      <td>https://mwnation.com/anything-goes-in-amsterdam/</td>\n",
       "      <td>mwnation.com</td>\n",
       "      <td>Cannabis</td>\n",
       "      <td>‘Anything goes in Amsterdam’by Yvonnie Sundu 1...</td>\n",
       "    </tr>\n",
       "    <tr>\n",
       "      <th>6</th>\n",
       "      <td>92</td>\n",
       "      <td>https://mwnation.com/house-adopts-motion-on-ch...</td>\n",
       "      <td>mwnation.com</td>\n",
       "      <td>chamba</td>\n",
       "      <td>House adopts motion on chamba cultivationby Wa...</td>\n",
       "    </tr>\n",
       "    <tr>\n",
       "      <th>7</th>\n",
       "      <td>94</td>\n",
       "      <td>https://mwnation.com/ma-blacks-glorify-chamba/</td>\n",
       "      <td>mwnation.com</td>\n",
       "      <td>chamba</td>\n",
       "      <td>Do Ma Blacks glorify chamba?by Edith Gondwe 02...</td>\n",
       "    </tr>\n",
       "    <tr>\n",
       "      <th>8</th>\n",
       "      <td>97</td>\n",
       "      <td>https://mwnation.com/man-nabbed-possessing-cha...</td>\n",
       "      <td>mwnation.com</td>\n",
       "      <td>chamba</td>\n",
       "      <td>Man nabbed for possessing chambaby Nation Onli...</td>\n",
       "    </tr>\n",
       "    <tr>\n",
       "      <th>9</th>\n",
       "      <td>98</td>\n",
       "      <td>https://mwnation.com/amanga-ogulitsa-chamba/</td>\n",
       "      <td>mwnation.com</td>\n",
       "      <td>chamba</td>\n",
       "      <td>Amanga ogulitsa chambaby Staff Writer 03/05/20...</td>\n",
       "    </tr>\n",
       "    <tr>\n",
       "      <th>10</th>\n",
       "      <td>102</td>\n",
       "      <td>https://www.mwnation.com/police-intercepts-67-...</td>\n",
       "      <td>www.mwnation.com</td>\n",
       "      <td>chamba</td>\n",
       "      <td>Police intercepts 67 chamba bagsby Sam Chunga ...</td>\n",
       "    </tr>\n",
       "    <tr>\n",
       "      <th>11</th>\n",
       "      <td>111</td>\n",
       "      <td>https://mwnation.com/azula-chamba-achiyatsa-ku...</td>\n",
       "      <td>mwnation.com</td>\n",
       "      <td>chamba</td>\n",
       "      <td>Azula chamba, achiyatsa ku KKby Bobby Kabango ...</td>\n",
       "    </tr>\n",
       "  </tbody>\n",
       "</table>\n",
       "</div>"
      ],
      "text/plain": [
       "    Unnamed: 0                                               link  \\\n",
       "2           43  https://www.mwnation.com/house-allows-industri...   \n",
       "4           78  https://mwnation.com/malawi-could-lose-k75bn-i...   \n",
       "5           83   https://mwnation.com/anything-goes-in-amsterdam/   \n",
       "6           92  https://mwnation.com/house-adopts-motion-on-ch...   \n",
       "7           94     https://mwnation.com/ma-blacks-glorify-chamba/   \n",
       "8           97  https://mwnation.com/man-nabbed-possessing-cha...   \n",
       "9           98       https://mwnation.com/amanga-ogulitsa-chamba/   \n",
       "10         102  https://www.mwnation.com/police-intercepts-67-...   \n",
       "11         111  https://mwnation.com/azula-chamba-achiyatsa-ku...   \n",
       "\n",
       "                site  category  \\\n",
       "2   www.mwnation.com  Cannabis   \n",
       "4       mwnation.com  Cannabis   \n",
       "5       mwnation.com  Cannabis   \n",
       "6       mwnation.com    chamba   \n",
       "7       mwnation.com    chamba   \n",
       "8       mwnation.com    chamba   \n",
       "9       mwnation.com    chamba   \n",
       "10  www.mwnation.com    chamba   \n",
       "11      mwnation.com    chamba   \n",
       "\n",
       "                                              article  \n",
       "2   House allows industrial hemp bill draftingby E...  \n",
       "4   Malawi could lose K75bn industrial hemp revenu...  \n",
       "5   ‘Anything goes in Amsterdam’by Yvonnie Sundu 1...  \n",
       "6   House adopts motion on chamba cultivationby Wa...  \n",
       "7   Do Ma Blacks glorify chamba?by Edith Gondwe 02...  \n",
       "8   Man nabbed for possessing chambaby Nation Onli...  \n",
       "9   Amanga ogulitsa chambaby Staff Writer 03/05/20...  \n",
       "10  Police intercepts 67 chamba bagsby Sam Chunga ...  \n",
       "11  Azula chamba, achiyatsa ku KKby Bobby Kabango ...  "
      ]
     },
     "execution_count": 15,
     "metadata": {},
     "output_type": "execute_result"
    }
   ],
   "source": [
    "articles_relinked"
   ]
  },
  {
   "cell_type": "code",
   "execution_count": 17,
   "id": "4d9213a2",
   "metadata": {},
   "outputs": [],
   "source": [
    "result = pd.concat([has_articles, articles_relinked])"
   ]
  },
  {
   "cell_type": "code",
   "execution_count": 18,
   "id": "fa4e4f45",
   "metadata": {},
   "outputs": [],
   "source": [
    "result.to_csv(\"cannibus_malawi_with_article_complete.csv\")"
   ]
  },
  {
   "cell_type": "markdown",
   "id": "566add25",
   "metadata": {},
   "source": [
    "### Complete a sample set of articles witch relate to cannibus\n",
    "Now we proceed to categories the articles"
   ]
  },
  {
   "cell_type": "code",
   "execution_count": 3,
   "id": "24aa5e5b",
   "metadata": {},
   "outputs": [],
   "source": [
    "df = pd.read_csv(\"cannibus_malawi_with_article_complete.csv\")"
   ]
  },
  {
   "cell_type": "markdown",
   "id": "f1824edc",
   "metadata": {},
   "source": [
    "#### Retrieve Article dates"
   ]
  },
  {
   "cell_type": "code",
   "execution_count": 2,
   "id": "ae8ad28e",
   "metadata": {},
   "outputs": [],
   "source": [
    "import datefinder\n",
    "import spacy"
   ]
  },
  {
   "cell_type": "code",
   "execution_count": null,
   "id": "46b076c0",
   "metadata": {},
   "outputs": [],
   "source": []
  },
  {
   "cell_type": "code",
   "execution_count": 24,
   "id": "f5e20c1b",
   "metadata": {},
   "outputs": [],
   "source": [
    "def getArticleDate(text):\n",
    "    try:     \n",
    "        matches = datefinder.find_dates(text=text)\n",
    "        for match in matches:\n",
    "            return match\n",
    "    except Exception as e:\n",
    "        print(e)\n",
    "\n",
    "df[\"article_date\"] = df[\"article\"].apply(func= lambda x: getArticleDate(x))"
   ]
  },
  {
   "cell_type": "code",
   "execution_count": 5,
   "id": "8852621f",
   "metadata": {},
   "outputs": [],
   "source": [
    "df.drop(list(df.columns)[:2], axis=1, inplace=True)"
   ]
  },
  {
   "cell_type": "code",
   "execution_count": 6,
   "id": "2d983bfb",
   "metadata": {
    "collapsed": true
   },
   "outputs": [
    {
     "name": "stdout",
     "output_type": "stream",
     "text": [
      "Collecting en-core-web-sm==3.3.0\n",
      "  Downloading https://github.com/explosion/spacy-models/releases/download/en_core_web_sm-3.3.0/en_core_web_sm-3.3.0-py3-none-any.whl (12.8 MB)\n",
      "     ---------------------------------------- 12.8/12.8 MB 1.1 MB/s eta 0:00:00\n",
      "Requirement already satisfied: spacy<3.4.0,>=3.3.0.dev0 in c:\\programdata\\anaconda3\\lib\\site-packages (from en-core-web-sm==3.3.0) (3.3.1)\n",
      "Requirement already satisfied: spacy-legacy<3.1.0,>=3.0.9 in c:\\programdata\\anaconda3\\lib\\site-packages (from spacy<3.4.0,>=3.3.0.dev0->en-core-web-sm==3.3.0) (3.0.10)\n",
      "Requirement already satisfied: blis<0.8.0,>=0.4.0 in c:\\programdata\\anaconda3\\lib\\site-packages (from spacy<3.4.0,>=3.3.0.dev0->en-core-web-sm==3.3.0) (0.7.8)\n",
      "Requirement already satisfied: catalogue<2.1.0,>=2.0.6 in c:\\programdata\\anaconda3\\lib\\site-packages (from spacy<3.4.0,>=3.3.0.dev0->en-core-web-sm==3.3.0) (2.0.8)\n",
      "Requirement already satisfied: pydantic!=1.8,!=1.8.1,<1.9.0,>=1.7.4 in c:\\programdata\\anaconda3\\lib\\site-packages (from spacy<3.4.0,>=3.3.0.dev0->en-core-web-sm==3.3.0) (1.8.2)\n",
      "Requirement already satisfied: wasabi<1.1.0,>=0.9.1 in c:\\programdata\\anaconda3\\lib\\site-packages (from spacy<3.4.0,>=3.3.0.dev0->en-core-web-sm==3.3.0) (0.9.1)\n",
      "Requirement already satisfied: pathy>=0.3.5 in c:\\programdata\\anaconda3\\lib\\site-packages (from spacy<3.4.0,>=3.3.0.dev0->en-core-web-sm==3.3.0) (0.6.2)\n",
      "Requirement already satisfied: cymem<2.1.0,>=2.0.2 in c:\\programdata\\anaconda3\\lib\\site-packages (from spacy<3.4.0,>=3.3.0.dev0->en-core-web-sm==3.3.0) (2.0.6)\n",
      "Requirement already satisfied: spacy-loggers<2.0.0,>=1.0.0 in c:\\programdata\\anaconda3\\lib\\site-packages (from spacy<3.4.0,>=3.3.0.dev0->en-core-web-sm==3.3.0) (1.0.3)\n",
      "Requirement already satisfied: preshed<3.1.0,>=3.0.2 in c:\\programdata\\anaconda3\\lib\\site-packages (from spacy<3.4.0,>=3.3.0.dev0->en-core-web-sm==3.3.0) (3.0.7)\n",
      "Requirement already satisfied: jinja2 in c:\\programdata\\anaconda3\\lib\\site-packages (from spacy<3.4.0,>=3.3.0.dev0->en-core-web-sm==3.3.0) (2.11.3)\n",
      "Requirement already satisfied: srsly<3.0.0,>=2.4.3 in c:\\programdata\\anaconda3\\lib\\site-packages (from spacy<3.4.0,>=3.3.0.dev0->en-core-web-sm==3.3.0) (2.4.4)\n",
      "Requirement already satisfied: murmurhash<1.1.0,>=0.28.0 in c:\\programdata\\anaconda3\\lib\\site-packages (from spacy<3.4.0,>=3.3.0.dev0->en-core-web-sm==3.3.0) (1.0.8)\n",
      "Requirement already satisfied: tqdm<5.0.0,>=4.38.0 in c:\\programdata\\anaconda3\\lib\\site-packages (from spacy<3.4.0,>=3.3.0.dev0->en-core-web-sm==3.3.0) (4.64.0)\n",
      "Requirement already satisfied: typer<0.5.0,>=0.3.0 in c:\\programdata\\anaconda3\\lib\\site-packages (from spacy<3.4.0,>=3.3.0.dev0->en-core-web-sm==3.3.0) (0.4.2)\n",
      "Requirement already satisfied: setuptools in c:\\programdata\\anaconda3\\lib\\site-packages (from spacy<3.4.0,>=3.3.0.dev0->en-core-web-sm==3.3.0) (63.4.1)\n",
      "Requirement already satisfied: numpy>=1.15.0 in c:\\programdata\\anaconda3\\lib\\site-packages (from spacy<3.4.0,>=3.3.0.dev0->en-core-web-sm==3.3.0) (1.21.5)\n",
      "Requirement already satisfied: requests<3.0.0,>=2.13.0 in c:\\programdata\\anaconda3\\lib\\site-packages (from spacy<3.4.0,>=3.3.0.dev0->en-core-web-sm==3.3.0) (2.28.1)\n",
      "Requirement already satisfied: packaging>=20.0 in c:\\programdata\\anaconda3\\lib\\site-packages (from spacy<3.4.0,>=3.3.0.dev0->en-core-web-sm==3.3.0) (21.3)\n",
      "Requirement already satisfied: thinc<8.1.0,>=8.0.14 in c:\\programdata\\anaconda3\\lib\\site-packages (from spacy<3.4.0,>=3.3.0.dev0->en-core-web-sm==3.3.0) (8.0.15)\n",
      "Requirement already satisfied: langcodes<4.0.0,>=3.2.0 in c:\\programdata\\anaconda3\\lib\\site-packages (from spacy<3.4.0,>=3.3.0.dev0->en-core-web-sm==3.3.0) (3.3.0)\n",
      "Requirement already satisfied: pyparsing!=3.0.5,>=2.0.2 in c:\\programdata\\anaconda3\\lib\\site-packages (from packaging>=20.0->spacy<3.4.0,>=3.3.0.dev0->en-core-web-sm==3.3.0) (3.0.9)\n",
      "Requirement already satisfied: smart-open<6.0.0,>=5.2.1 in c:\\programdata\\anaconda3\\lib\\site-packages (from pathy>=0.3.5->spacy<3.4.0,>=3.3.0.dev0->en-core-web-sm==3.3.0) (5.2.1)\n",
      "Requirement already satisfied: typing-extensions>=3.7.4.3 in c:\\programdata\\anaconda3\\lib\\site-packages (from pydantic!=1.8,!=1.8.1,<1.9.0,>=1.7.4->spacy<3.4.0,>=3.3.0.dev0->en-core-web-sm==3.3.0) (4.3.0)\n",
      "Requirement already satisfied: idna<4,>=2.5 in c:\\programdata\\anaconda3\\lib\\site-packages (from requests<3.0.0,>=2.13.0->spacy<3.4.0,>=3.3.0.dev0->en-core-web-sm==3.3.0) (3.3)\n",
      "Requirement already satisfied: certifi>=2017.4.17 in c:\\programdata\\anaconda3\\lib\\site-packages (from requests<3.0.0,>=2.13.0->spacy<3.4.0,>=3.3.0.dev0->en-core-web-sm==3.3.0) (2022.6.15)\n",
      "Requirement already satisfied: urllib3<1.27,>=1.21.1 in c:\\programdata\\anaconda3\\lib\\site-packages (from requests<3.0.0,>=2.13.0->spacy<3.4.0,>=3.3.0.dev0->en-core-web-sm==3.3.0) (1.26.11)\n",
      "Requirement already satisfied: charset-normalizer<3,>=2 in c:\\programdata\\anaconda3\\lib\\site-packages (from requests<3.0.0,>=2.13.0->spacy<3.4.0,>=3.3.0.dev0->en-core-web-sm==3.3.0) (2.0.4)\n",
      "Requirement already satisfied: colorama in c:\\programdata\\anaconda3\\lib\\site-packages (from tqdm<5.0.0,>=4.38.0->spacy<3.4.0,>=3.3.0.dev0->en-core-web-sm==3.3.0) (0.4.5)\n",
      "Requirement already satisfied: click<9.0.0,>=7.1.1 in c:\\programdata\\anaconda3\\lib\\site-packages (from typer<0.5.0,>=0.3.0->spacy<3.4.0,>=3.3.0.dev0->en-core-web-sm==3.3.0) (8.0.4)\n",
      "Requirement already satisfied: MarkupSafe>=0.23 in c:\\programdata\\anaconda3\\lib\\site-packages (from jinja2->spacy<3.4.0,>=3.3.0.dev0->en-core-web-sm==3.3.0) (2.0.1)\n",
      "[+] Download and installation successful\n",
      "You can now load the package via spacy.load('en_core_web_sm')\n"
     ]
    },
    {
     "name": "stderr",
     "output_type": "stream",
     "text": [
      "WARNING: Ignoring invalid distribution -ydantic (c:\\programdata\\anaconda3\\lib\\site-packages)\n",
      "WARNING: Ignoring invalid distribution -ydantic (c:\\programdata\\anaconda3\\lib\\site-packages)\n",
      "WARNING: Ignoring invalid distribution -ydantic (c:\\programdata\\anaconda3\\lib\\site-packages)\n",
      "WARNING: Ignoring invalid distribution -ydantic (c:\\programdata\\anaconda3\\lib\\site-packages)\n",
      "WARNING: Ignoring invalid distribution -ydantic (c:\\programdata\\anaconda3\\lib\\site-packages)\n",
      "WARNING: Ignoring invalid distribution -ydantic (c:\\programdata\\anaconda3\\lib\\site-packages)\n"
     ]
    }
   ],
   "source": [
    "!python -m spacy download en_core_web_sm\n",
    "nlp = spacy.load(\"en_core_web_sm\")"
   ]
  },
  {
   "cell_type": "code",
   "execution_count": 11,
   "id": "77b184c8",
   "metadata": {},
   "outputs": [],
   "source": [
    "text = df[\"article\"][0]"
   ]
  },
  {
   "cell_type": "code",
   "execution_count": 12,
   "id": "1a366686",
   "metadata": {},
   "outputs": [],
   "source": [
    "doc = nlp(text)"
   ]
  },
  {
   "cell_type": "code",
   "execution_count": 7,
   "id": "43e16ea4",
   "metadata": {},
   "outputs": [],
   "source": [
    "def getVerbs(string):\n",
    "    text = string\n",
    "    doc = nlp(text)\n",
    "    verbs = [token.lemma_ for token in doc if token.pos_ == \"VERB\"]\n",
    "    return verbs"
   ]
  },
  {
   "cell_type": "code",
   "execution_count": 8,
   "id": "007d7ba4",
   "metadata": {},
   "outputs": [],
   "source": [
    "df[\"verbs\"] = df[\"article\"].apply(func= lambda x: \", \".join(getVerbs(x)))"
   ]
  },
  {
   "cell_type": "code",
   "execution_count": 9,
   "id": "7c16d1c2",
   "metadata": {},
   "outputs": [],
   "source": [
    "def getQuantities(string):\n",
    "    text = string\n",
    "    doc = nlp(text)\n",
    "    quantity = [entity.text for entity in doc.ents if entity.label_==\"QUANTITY\"]\n",
    "    return quantity"
   ]
  },
  {
   "cell_type": "code",
   "execution_count": 21,
   "id": "a5a7b601",
   "metadata": {},
   "outputs": [],
   "source": [
    "def getAttribute(string, attribute):\n",
    "    text = string\n",
    "    doc = nlp(text)\n",
    "    quantity = [entity.text for entity in doc.ents if entity.label_==attribute]\n",
    "    return quantity"
   ]
  },
  {
   "cell_type": "code",
   "execution_count": 10,
   "id": "073681e8",
   "metadata": {},
   "outputs": [],
   "source": [
    "df[\"quantity\"] = df[\"article\"].apply(func=lambda x: \" \".join(getQuantities(x)))"
   ]
  },
  {
   "cell_type": "code",
   "execution_count": 26,
   "id": "5530e2be",
   "metadata": {},
   "outputs": [],
   "source": [
    "df[\"date2\"] = df[\"article\"].apply(lambda x: getArticleDate(\" \".join(getAttribute(x, \"DATE\"))))"
   ]
  },
  {
   "cell_type": "code",
   "execution_count": 28,
   "id": "5401a250",
   "metadata": {},
   "outputs": [],
   "source": [
    "df2 = df[df[\"quantity\"].apply(lambda x: len(x))>0]"
   ]
  },
  {
   "cell_type": "code",
   "execution_count": 27,
   "id": "5511599d",
   "metadata": {},
   "outputs": [],
   "source": [
    "df2.to_csv(\"cannibus_malawi_analysis_001.csv\")"
   ]
  },
  {
   "cell_type": "code",
   "execution_count": 30,
   "id": "d4fce765",
   "metadata": {},
   "outputs": [],
   "source": [
    "df3 = df[df[\"quantity\"].apply(lambda x: len(x))==0]"
   ]
  },
  {
   "cell_type": "code",
   "execution_count": 33,
   "id": "bd77fdf0",
   "metadata": {},
   "outputs": [],
   "source": [
    "df3.to_csv(\"cannibus_malawi_analysis_002.csv\")"
   ]
  },
  {
   "cell_type": "code",
   "execution_count": null,
   "id": "c2044b9f",
   "metadata": {},
   "outputs": [],
   "source": []
  }
 ],
 "metadata": {
  "kernelspec": {
   "display_name": "Python 3 (ipykernel)",
   "language": "python",
   "name": "python3"
  },
  "language_info": {
   "codemirror_mode": {
    "name": "ipython",
    "version": 3
   },
   "file_extension": ".py",
   "mimetype": "text/x-python",
   "name": "python",
   "nbconvert_exporter": "python",
   "pygments_lexer": "ipython3",
   "version": "3.9.13"
  }
 },
 "nbformat": 4,
 "nbformat_minor": 5
}
