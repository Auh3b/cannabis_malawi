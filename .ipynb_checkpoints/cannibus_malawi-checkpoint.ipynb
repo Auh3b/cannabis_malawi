{
 "cells": [
  {
   "cell_type": "markdown",
   "id": "6eca7c8e",
   "metadata": {},
   "source": [
    "# CANNIBUS IN MALAWI - A CURIOUS CASE\n",
    "\n",
    "This research seeks to answer the following question:\n",
    "\n",
    "1. Why is that **Cannibas** (hemp/chamba) has been getting much attention these days?\n",
    "2. How many cases have been reported in 2022 thus far?\n",
    "3. The location of origin?\n",
    "4. Destination of smuggled cannibas?\n",
    "5. Transport means?"
   ]
  },
  {
   "cell_type": "markdown",
   "id": "b88e2ec2",
   "metadata": {},
   "source": [
    "## 1. Get Data\n",
    "We will use custom google search to make a collection of articles about reported cases of illegal posession of cannibus with intention to distribute"
   ]
  },
  {
   "cell_type": "code",
   "execution_count": 1,
   "id": "eae8cd70",
   "metadata": {},
   "outputs": [],
   "source": [
    "import pandas as pd\n",
    "from selenium import webdriver\n",
    "from webdriver_manager.chrome import ChromeDriverManager\n",
    "import time\n",
    "from bs4 import BeautifulSoup\n",
    "import re"
   ]
  },
  {
   "cell_type": "code",
   "execution_count": 26,
   "id": "f9206420",
   "metadata": {},
   "outputs": [],
   "source": [
    "article_links = pd.read_csv(\"cannibus_malawi_article_links.csv\",usecols=[\"link\",\"site\",\"category\"]).to_dict(orient=\"records\")"
   ]
  },
  {
   "cell_type": "code",
   "execution_count": 35,
   "id": "391d139a",
   "metadata": {},
   "outputs": [
    {
     "name": "stdout",
     "output_type": "stream",
     "text": [
      "251\n",
      "235\n"
     ]
    }
   ],
   "source": [
    "print(len(article_links))\n",
    "dropList = []\n",
    "for index, article in enumerate(article_links):\n",
    "    link = article[\"link\"]\n",
    "    try:\n",
    "        match = re.search(\".?/tag/.?\", link)\n",
    "        if match:\n",
    "            dropList.append(index)\n",
    "            article_links.pop(index)\n",
    "    except:\n",
    "        pass\n",
    "    \n",
    "print(len(article_links))"
   ]
  },
  {
   "cell_type": "code",
   "execution_count": 10,
   "id": "b9f92317",
   "metadata": {},
   "outputs": [],
   "source": [
    "html_tags = {\n",
    "    \"times.mw\": [\"entry-header\", \"entry-content\"],\n",
    "    \"www.times.mw\": [\"entry-header\", \"entry-content\"],\n",
    "    \"mwnation.com\": [\"post_title\", \"meta_container\", \"entry-content\"],\n",
    "    \"www.mwnation.com\": [\"post_title\", \"meta_container\", \"entry-content\"],\n",
    "    \"nyasatimes.com\":[\"nyasa-title\", \"entry-meta\", \"nyasa-content\"],\n",
    "    \"www.nyasatimes.com\":[\"nyasa-title\", \"entry-meta\", \"nyasa-content\"],\n",
    "    \"zodiakmalawi.com\":[\"itemHeader\",\"itemBody\"],\n",
    "    \"www.zodiakmalawi.com\":[\"itemHeader\",\"itemBody\"]\n",
    "}"
   ]
  },
  {
   "cell_type": "code",
   "execution_count": 2,
   "id": "f8d2b9a5",
   "metadata": {},
   "outputs": [
    {
     "name": "stderr",
     "output_type": "stream",
     "text": [
      "[WDM] - Downloading: 100%|█████████████████████████████████████████████████████████| 6.68M/6.68M [00:30<00:00, 228kB/s]\n"
     ]
    }
   ],
   "source": [
    "driver  = webdriver.Chrome(ChromeDriverManager().install())"
   ]
  },
  {
   "cell_type": "code",
   "execution_count": 3,
   "id": "5a6d2d09",
   "metadata": {},
   "outputs": [],
   "source": [
    "by = webdriver.common.by.By"
   ]
  },
  {
   "cell_type": "code",
   "execution_count": null,
   "id": "ed79eaa9",
   "metadata": {},
   "outputs": [],
   "source": []
  },
  {
   "cell_type": "code",
   "execution_count": 8,
   "id": "4fb05b90",
   "metadata": {},
   "outputs": [],
   "source": [
    "def getSite(linkDict, classDict):\n",
    "    link = linkDict[\"link\"]\n",
    "    site = linkDict[\"site\"]\n",
    "    classList = classDict[site]\n",
    "    driver.get(link)\n",
    "    time.sleep(20)\n",
    "    text = \"\"\n",
    "    \n",
    "    for classTag in classList:\n",
    "        text += driver.find_element(by.CSS_SELECTOR, f\"[class*={classTag}]\").text\n",
    "        \n",
    "    linkDict[\"article\"] = text"
   ]
  },
  {
   "cell_type": "code",
   "execution_count": 40,
   "id": "58aaa750",
   "metadata": {},
   "outputs": [
    {
     "name": "stdout",
     "output_type": "stream",
     "text": [
      "Message: no such element: Unable to locate element: {\"method\":\"css selector\",\"selector\":\"[class*=entry-header]\"}\n",
      "  (Session info: chrome=105.0.5195.52)\n",
      "\n",
      "Message: no such element: Unable to locate element: {\"method\":\"css selector\",\"selector\":\"[class*=entry-header]\"}\n",
      "  (Session info: chrome=105.0.5195.52)\n",
      "\n",
      "Message: no such element: Unable to locate element: {\"method\":\"css selector\",\"selector\":\"[class*=post_title]\"}\n",
      "  (Session info: chrome=105.0.5195.52)\n",
      "\n",
      "Message: no such element: Unable to locate element: {\"method\":\"css selector\",\"selector\":\"[class*=entry-content]\"}\n",
      "  (Session info: chrome=105.0.5195.52)\n",
      "\n",
      "Message: timeout: Timed out receiving message from renderer: 10.883\n",
      "  (Session info: chrome=105.0.5195.52)\n",
      "\n",
      "Message: timeout: Timed out receiving message from renderer: 33.670\n",
      "  (Session info: chrome=105.0.5195.52)\n",
      "\n",
      "Message: timeout: Timed out receiving message from renderer: 230.750\n",
      "  (Session info: chrome=105.0.5195.52)\n",
      "\n",
      "Message: no such element: Unable to locate element: {\"method\":\"css selector\",\"selector\":\"[class*=post_title]\"}\n",
      "  (Session info: chrome=105.0.5195.52)\n",
      "\n",
      "Message: no such element: Unable to locate element: {\"method\":\"css selector\",\"selector\":\"[class*=post_title]\"}\n",
      "  (Session info: chrome=105.0.5195.52)\n",
      "\n",
      "Message: unknown error: net::ERR_CONNECTION_TIMED_OUT\n",
      "  (Session info: chrome=105.0.5195.52)\n",
      "\n",
      "Message: no such element: Unable to locate element: {\"method\":\"css selector\",\"selector\":\"[class*=post_title]\"}\n",
      "  (Session info: chrome=105.0.5195.52)\n",
      "\n",
      "Message: timeout: Timed out receiving message from renderer: -312.368\n",
      "  (Session info: chrome=105.0.5195.52)\n",
      "\n",
      "Message: no such element: Unable to locate element: {\"method\":\"css selector\",\"selector\":\"[class*=entry-content]\"}\n",
      "  (Session info: chrome=105.0.5195.52)\n",
      "\n",
      "Message: no such element: Unable to locate element: {\"method\":\"css selector\",\"selector\":\"[class*=entry-header]\"}\n",
      "  (Session info: chrome=105.0.5195.52)\n",
      "\n"
     ]
    }
   ],
   "source": [
    "for article in article_links:\n",
    "    try:\n",
    "        getSite(article, html_tags)\n",
    "    except Exception as e:\n",
    "        print(e)"
   ]
  },
  {
   "cell_type": "code",
   "execution_count": 45,
   "id": "c9a0c338",
   "metadata": {},
   "outputs": [],
   "source": [
    "df = pd.DataFrame(article_links)"
   ]
  },
  {
   "cell_type": "code",
   "execution_count": null,
   "id": "6fe63551",
   "metadata": {},
   "outputs": [],
   "source": []
  },
  {
   "cell_type": "code",
   "execution_count": 50,
   "id": "8c62610c",
   "metadata": {},
   "outputs": [],
   "source": [
    "df.to_csv(\"cannibus_malawi_with_article.csv\")"
   ]
  },
  {
   "cell_type": "code",
   "execution_count": 4,
   "id": "385edd9a",
   "metadata": {},
   "outputs": [],
   "source": [
    "df = pd.read_csv(\"cannibus_malawi_with_article.csv\")"
   ]
  },
  {
   "cell_type": "code",
   "execution_count": 5,
   "id": "0e4bd48b",
   "metadata": {},
   "outputs": [],
   "source": [
    "has_articles = df[df[\"article\"].notna()]\n",
    "without_articles = df[df[\"article\"].isna()]"
   ]
  },
  {
   "cell_type": "code",
   "execution_count": 6,
   "id": "c88391ee",
   "metadata": {},
   "outputs": [],
   "source": [
    "redo_links = without_articles.to_dict(orient=\"records\")"
   ]
  },
  {
   "cell_type": "code",
   "execution_count": 11,
   "id": "0b6f86a3",
   "metadata": {},
   "outputs": [
    {
     "name": "stdout",
     "output_type": "stream",
     "text": [
      "Message: no such element: Unable to locate element: {\"method\":\"css selector\",\"selector\":\"[class*=entry-header]\"}\n",
      "  (Session info: chrome=105.0.5195.102)\n",
      "\n",
      "Message: no such element: Unable to locate element: {\"method\":\"css selector\",\"selector\":\"[class*=entry-header]\"}\n",
      "  (Session info: chrome=105.0.5195.102)\n",
      "\n",
      "Message: no such element: Unable to locate element: {\"method\":\"css selector\",\"selector\":\"[class*=entry-content]\"}\n",
      "  (Session info: chrome=105.0.5195.102)\n",
      "\n",
      "Message: no such element: Unable to locate element: {\"method\":\"css selector\",\"selector\":\"[class*=entry-content]\"}\n",
      "  (Session info: chrome=105.0.5195.102)\n",
      "\n",
      "Message: no such element: Unable to locate element: {\"method\":\"css selector\",\"selector\":\"[class*=entry-header]\"}\n",
      "  (Session info: chrome=105.0.5195.102)\n",
      "\n"
     ]
    }
   ],
   "source": [
    "for article in redo_links:\n",
    "    try:\n",
    "        getSite(article, html_tags)\n",
    "    except Exception as e:\n",
    "        print(e)"
   ]
  },
  {
   "cell_type": "code",
   "execution_count": 13,
   "id": "664881d4",
   "metadata": {},
   "outputs": [],
   "source": [
    "articles_relinked = pd.DataFrame(redo_links)"
   ]
  },
  {
   "cell_type": "code",
   "execution_count": 14,
   "id": "3318220d",
   "metadata": {},
   "outputs": [],
   "source": [
    "articles_relinked = articles_relinked[articles_relinked[\"article\"].notna()]"
   ]
  },
  {
   "cell_type": "code",
   "execution_count": 15,
   "id": "1eb49fc5",
   "metadata": {},
   "outputs": [
    {
     "data": {
      "text/html": [
       "<div>\n",
       "<style scoped>\n",
       "    .dataframe tbody tr th:only-of-type {\n",
       "        vertical-align: middle;\n",
       "    }\n",
       "\n",
       "    .dataframe tbody tr th {\n",
       "        vertical-align: top;\n",
       "    }\n",
       "\n",
       "    .dataframe thead th {\n",
       "        text-align: right;\n",
       "    }\n",
       "</style>\n",
       "<table border=\"1\" class=\"dataframe\">\n",
       "  <thead>\n",
       "    <tr style=\"text-align: right;\">\n",
       "      <th></th>\n",
       "      <th>Unnamed: 0</th>\n",
       "      <th>link</th>\n",
       "      <th>site</th>\n",
       "      <th>category</th>\n",
       "      <th>article</th>\n",
       "    </tr>\n",
       "  </thead>\n",
       "  <tbody>\n",
       "    <tr>\n",
       "      <th>2</th>\n",
       "      <td>43</td>\n",
       "      <td>https://www.mwnation.com/house-allows-industri...</td>\n",
       "      <td>www.mwnation.com</td>\n",
       "      <td>Cannabis</td>\n",
       "      <td>House allows industrial hemp bill draftingby E...</td>\n",
       "    </tr>\n",
       "    <tr>\n",
       "      <th>4</th>\n",
       "      <td>78</td>\n",
       "      <td>https://mwnation.com/malawi-could-lose-k75bn-i...</td>\n",
       "      <td>mwnation.com</td>\n",
       "      <td>Cannabis</td>\n",
       "      <td>Malawi could lose K75bn industrial hemp revenu...</td>\n",
       "    </tr>\n",
       "    <tr>\n",
       "      <th>5</th>\n",
       "      <td>83</td>\n",
       "      <td>https://mwnation.com/anything-goes-in-amsterdam/</td>\n",
       "      <td>mwnation.com</td>\n",
       "      <td>Cannabis</td>\n",
       "      <td>‘Anything goes in Amsterdam’by Yvonnie Sundu 1...</td>\n",
       "    </tr>\n",
       "    <tr>\n",
       "      <th>6</th>\n",
       "      <td>92</td>\n",
       "      <td>https://mwnation.com/house-adopts-motion-on-ch...</td>\n",
       "      <td>mwnation.com</td>\n",
       "      <td>chamba</td>\n",
       "      <td>House adopts motion on chamba cultivationby Wa...</td>\n",
       "    </tr>\n",
       "    <tr>\n",
       "      <th>7</th>\n",
       "      <td>94</td>\n",
       "      <td>https://mwnation.com/ma-blacks-glorify-chamba/</td>\n",
       "      <td>mwnation.com</td>\n",
       "      <td>chamba</td>\n",
       "      <td>Do Ma Blacks glorify chamba?by Edith Gondwe 02...</td>\n",
       "    </tr>\n",
       "    <tr>\n",
       "      <th>8</th>\n",
       "      <td>97</td>\n",
       "      <td>https://mwnation.com/man-nabbed-possessing-cha...</td>\n",
       "      <td>mwnation.com</td>\n",
       "      <td>chamba</td>\n",
       "      <td>Man nabbed for possessing chambaby Nation Onli...</td>\n",
       "    </tr>\n",
       "    <tr>\n",
       "      <th>9</th>\n",
       "      <td>98</td>\n",
       "      <td>https://mwnation.com/amanga-ogulitsa-chamba/</td>\n",
       "      <td>mwnation.com</td>\n",
       "      <td>chamba</td>\n",
       "      <td>Amanga ogulitsa chambaby Staff Writer 03/05/20...</td>\n",
       "    </tr>\n",
       "    <tr>\n",
       "      <th>10</th>\n",
       "      <td>102</td>\n",
       "      <td>https://www.mwnation.com/police-intercepts-67-...</td>\n",
       "      <td>www.mwnation.com</td>\n",
       "      <td>chamba</td>\n",
       "      <td>Police intercepts 67 chamba bagsby Sam Chunga ...</td>\n",
       "    </tr>\n",
       "    <tr>\n",
       "      <th>11</th>\n",
       "      <td>111</td>\n",
       "      <td>https://mwnation.com/azula-chamba-achiyatsa-ku...</td>\n",
       "      <td>mwnation.com</td>\n",
       "      <td>chamba</td>\n",
       "      <td>Azula chamba, achiyatsa ku KKby Bobby Kabango ...</td>\n",
       "    </tr>\n",
       "  </tbody>\n",
       "</table>\n",
       "</div>"
      ],
      "text/plain": [
       "    Unnamed: 0                                               link  \\\n",
       "2           43  https://www.mwnation.com/house-allows-industri...   \n",
       "4           78  https://mwnation.com/malawi-could-lose-k75bn-i...   \n",
       "5           83   https://mwnation.com/anything-goes-in-amsterdam/   \n",
       "6           92  https://mwnation.com/house-adopts-motion-on-ch...   \n",
       "7           94     https://mwnation.com/ma-blacks-glorify-chamba/   \n",
       "8           97  https://mwnation.com/man-nabbed-possessing-cha...   \n",
       "9           98       https://mwnation.com/amanga-ogulitsa-chamba/   \n",
       "10         102  https://www.mwnation.com/police-intercepts-67-...   \n",
       "11         111  https://mwnation.com/azula-chamba-achiyatsa-ku...   \n",
       "\n",
       "                site  category  \\\n",
       "2   www.mwnation.com  Cannabis   \n",
       "4       mwnation.com  Cannabis   \n",
       "5       mwnation.com  Cannabis   \n",
       "6       mwnation.com    chamba   \n",
       "7       mwnation.com    chamba   \n",
       "8       mwnation.com    chamba   \n",
       "9       mwnation.com    chamba   \n",
       "10  www.mwnation.com    chamba   \n",
       "11      mwnation.com    chamba   \n",
       "\n",
       "                                              article  \n",
       "2   House allows industrial hemp bill draftingby E...  \n",
       "4   Malawi could lose K75bn industrial hemp revenu...  \n",
       "5   ‘Anything goes in Amsterdam’by Yvonnie Sundu 1...  \n",
       "6   House adopts motion on chamba cultivationby Wa...  \n",
       "7   Do Ma Blacks glorify chamba?by Edith Gondwe 02...  \n",
       "8   Man nabbed for possessing chambaby Nation Onli...  \n",
       "9   Amanga ogulitsa chambaby Staff Writer 03/05/20...  \n",
       "10  Police intercepts 67 chamba bagsby Sam Chunga ...  \n",
       "11  Azula chamba, achiyatsa ku KKby Bobby Kabango ...  "
      ]
     },
     "execution_count": 15,
     "metadata": {},
     "output_type": "execute_result"
    }
   ],
   "source": [
    "articles_relinked"
   ]
  },
  {
   "cell_type": "code",
   "execution_count": 17,
   "id": "4d9213a2",
   "metadata": {},
   "outputs": [],
   "source": [
    "result = pd.concat([has_articles, articles_relinked])"
   ]
  },
  {
   "cell_type": "code",
   "execution_count": 18,
   "id": "fa4e4f45",
   "metadata": {},
   "outputs": [],
   "source": [
    "result.to_csv(\"cannibus_malawi_with_article_complete.csv\")"
   ]
  },
  {
   "cell_type": "code",
   "execution_count": null,
   "id": "c511b33a",
   "metadata": {},
   "outputs": [],
   "source": []
  }
 ],
 "metadata": {
  "kernelspec": {
   "display_name": "Python 3 (ipykernel)",
   "language": "python",
   "name": "python3"
  },
  "language_info": {
   "codemirror_mode": {
    "name": "ipython",
    "version": 3
   },
   "file_extension": ".py",
   "mimetype": "text/x-python",
   "name": "python",
   "nbconvert_exporter": "python",
   "pygments_lexer": "ipython3",
   "version": "3.9.13"
  }
 },
 "nbformat": 4,
 "nbformat_minor": 5
}
